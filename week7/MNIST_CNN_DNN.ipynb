{
  "nbformat": 4,
  "nbformat_minor": 0,
  "metadata": {
    "colab": {
      "provenance": [],
      "gpuType": "T4"
    },
    "kernelspec": {
      "name": "python3",
      "display_name": "Python 3"
    },
    "language_info": {
      "name": "python"
    },
    "accelerator": "GPU"
  },
  "cells": [
    {
      "cell_type": "markdown",
      "source": [
        "# **DNN**"
      ],
      "metadata": {
        "id": "_lBAvNVhZbDM"
      }
    },
    {
      "cell_type": "code",
      "execution_count": 32,
      "metadata": {
        "id": "FnBE_LeNZQJy"
      },
      "outputs": [],
      "source": [
        "import tensorflow as tf\n",
        "from tensorflow.keras import layers, models\n",
        "\n",
        "# 데이터 로드\n",
        "mnist = tf.keras.datasets.mnist\n",
        "(x_train, y_train), (x_test, y_test) = mnist.load_data()\n",
        "\n",
        "#전처리 : 정규화\n",
        "x_train = x_train / 255.0\n",
        "x_test = x_test / 255.0\n"
      ]
    },
    {
      "cell_type": "code",
      "source": [
        "# DNN 모델 구성\n",
        "model_dnn = models.Sequential([\n",
        "    layers.Flatten(input_shape=(28, 28)),\n",
        "    layers.Dense(256, activation='relu'),\n",
        "    layers.Dropout(0.3),\n",
        "    layers.Dense(128, activation='relu'),\n",
        "    layers.Dropout(0.3),\n",
        "    layers.Dense(10, activation='softmax')\n",
        "])"
      ],
      "metadata": {
        "id": "GdYU3KdmZpON"
      },
      "execution_count": 33,
      "outputs": []
    },
    {
      "cell_type": "code",
      "source": [
        "# 컴파일\n",
        "model_dnn.compile(optimizer='adam',\n",
        "                  loss='sparse_categorical_crossentropy',\n",
        "                  metrics=['accuracy'])\n"
      ],
      "metadata": {
        "id": "Ule8DEucZpKn"
      },
      "execution_count": 34,
      "outputs": []
    },
    {
      "cell_type": "code",
      "source": [
        "# 학습\n",
        "history_dnn = model_dnn.fit(x_train, y_train, epochs=10,\n",
        "                            validation_split=0.1, batch_size=128, verbose=2)"
      ],
      "metadata": {
        "colab": {
          "base_uri": "https://localhost:8080/"
        },
        "id": "TO1xQoA1ZpID",
        "outputId": "a099bc0c-6049-42e5-991e-d798b0e2da09"
      },
      "execution_count": 35,
      "outputs": [
        {
          "output_type": "stream",
          "name": "stdout",
          "text": [
            "Epoch 1/10\n",
            "422/422 - 6s - 15ms/step - accuracy: 0.8763 - loss: 0.4110 - val_accuracy: 0.9607 - val_loss: 0.1315\n",
            "Epoch 2/10\n",
            "422/422 - 1s - 3ms/step - accuracy: 0.9476 - loss: 0.1762 - val_accuracy: 0.9728 - val_loss: 0.0949\n",
            "Epoch 3/10\n",
            "422/422 - 1s - 2ms/step - accuracy: 0.9602 - loss: 0.1337 - val_accuracy: 0.9772 - val_loss: 0.0815\n",
            "Epoch 4/10\n",
            "422/422 - 1s - 2ms/step - accuracy: 0.9671 - loss: 0.1082 - val_accuracy: 0.9798 - val_loss: 0.0716\n",
            "Epoch 5/10\n",
            "422/422 - 1s - 2ms/step - accuracy: 0.9711 - loss: 0.0944 - val_accuracy: 0.9802 - val_loss: 0.0656\n",
            "Epoch 6/10\n",
            "422/422 - 1s - 3ms/step - accuracy: 0.9746 - loss: 0.0806 - val_accuracy: 0.9797 - val_loss: 0.0697\n",
            "Epoch 7/10\n",
            "422/422 - 1s - 2ms/step - accuracy: 0.9783 - loss: 0.0708 - val_accuracy: 0.9838 - val_loss: 0.0625\n",
            "Epoch 8/10\n",
            "422/422 - 1s - 3ms/step - accuracy: 0.9802 - loss: 0.0635 - val_accuracy: 0.9815 - val_loss: 0.0626\n",
            "Epoch 9/10\n",
            "422/422 - 1s - 3ms/step - accuracy: 0.9808 - loss: 0.0598 - val_accuracy: 0.9813 - val_loss: 0.0645\n",
            "Epoch 10/10\n",
            "422/422 - 2s - 4ms/step - accuracy: 0.9826 - loss: 0.0544 - val_accuracy: 0.9838 - val_loss: 0.0619\n"
          ]
        }
      ]
    },
    {
      "cell_type": "code",
      "source": [
        "# 평가\n",
        "test_loss, test_acc = model_dnn.evaluate(x_test, y_test, verbose=2)\n",
        "print(f\"DNN Test Accuracy: {test_acc:.4f}\")"
      ],
      "metadata": {
        "colab": {
          "base_uri": "https://localhost:8080/"
        },
        "id": "Z2GIHL1lZpFq",
        "outputId": "2bd1f58d-7565-40bc-86a6-90eb1d152e54"
      },
      "execution_count": 36,
      "outputs": [
        {
          "output_type": "stream",
          "name": "stdout",
          "text": [
            "313/313 - 1s - 4ms/step - accuracy: 0.9815 - loss: 0.0639\n",
            "DNN Test Accuracy: 0.9815\n"
          ]
        }
      ]
    },
    {
      "cell_type": "markdown",
      "source": [
        "# CNN"
      ],
      "metadata": {
        "id": "pSE747DDZ7CI"
      }
    },
    {
      "cell_type": "code",
      "source": [
        "import tensorflow as tf\n",
        "import numpy as np\n",
        "from tensorflow.keras import layers, models\n",
        "\n",
        "# 데이터 로드\n",
        "mnist = tf.keras.datasets.mnist\n",
        "(x_train, y_train), (x_test, y_test) = mnist.load_data()"
      ],
      "metadata": {
        "id": "o_q3trXKZpA5"
      },
      "execution_count": 39,
      "outputs": []
    },
    {
      "cell_type": "code",
      "source": [
        "#전처리 : 정규화 + 차원 추가\n",
        "x_train = x_train / 255.0\n",
        "x_test = x_test / 255.0\n",
        "x_train = x_train[..., tf.newaxis]  # (28,28,1)\n",
        "x_test = x_test[..., tf.newaxis]"
      ],
      "metadata": {
        "id": "e04sl09wZo-Z"
      },
      "execution_count": 40,
      "outputs": []
    },
    {
      "cell_type": "code",
      "source": [
        "model_cnn = models.Sequential([\n",
        "    layers.Conv2D(32, (3,3), activation='relu', input_shape=(28,28,1)),\n",
        "    layers.Conv2D(64, (3,3), activation='relu'),\n",
        "    layers.MaxPooling2D((2,2)),\n",
        "    layers.Dropout(0.25),\n",
        "\n",
        "    layers.Conv2D(128, (3,3), activation='relu'),\n",
        "    layers.MaxPooling2D((2,2)),\n",
        "    layers.Dropout(0.25),\n",
        "\n",
        "    layers.Flatten(),\n",
        "    layers.Dense(256, activation='relu'),\n",
        "    layers.Dropout(0.5),\n",
        "    layers.Dense(10, activation='softmax')\n",
        "])\n"
      ],
      "metadata": {
        "id": "3pKRKqFIaSGj"
      },
      "execution_count": 46,
      "outputs": []
    },
    {
      "cell_type": "code",
      "source": [
        "#컴파일\n",
        "model.compile(optimizer='adam',\n",
        "              loss='sparse_categorical_crossentropy',\n",
        "              metrics=['accuracy'])"
      ],
      "metadata": {
        "id": "-Hf_MP72aSKf"
      },
      "execution_count": 47,
      "outputs": []
    },
    {
      "cell_type": "code",
      "source": [
        "#학습\n",
        "history = model.fit(\n",
        "    x_train, y_train,\n",
        "    epochs=10,\n",
        "    batch_size=128,\n",
        "    validation_split=0.1,\n",
        "    verbose=2\n",
        ")"
      ],
      "metadata": {
        "colab": {
          "base_uri": "https://localhost:8080/"
        },
        "id": "WETxnUNOaSN4",
        "outputId": "01bbacce-bf90-4577-bd09-a24f02a0c4f4"
      },
      "execution_count": 48,
      "outputs": [
        {
          "output_type": "stream",
          "name": "stdout",
          "text": [
            "Epoch 1/10\n",
            "422/422 - 7s - 17ms/step - accuracy: 0.9942 - loss: 0.0174 - val_accuracy: 0.9923 - val_loss: 0.0297\n",
            "Epoch 2/10\n",
            "422/422 - 2s - 5ms/step - accuracy: 0.9949 - loss: 0.0154 - val_accuracy: 0.9925 - val_loss: 0.0302\n",
            "Epoch 3/10\n",
            "422/422 - 2s - 5ms/step - accuracy: 0.9953 - loss: 0.0134 - val_accuracy: 0.9935 - val_loss: 0.0269\n",
            "Epoch 4/10\n",
            "422/422 - 2s - 4ms/step - accuracy: 0.9960 - loss: 0.0112 - val_accuracy: 0.9927 - val_loss: 0.0337\n",
            "Epoch 5/10\n",
            "422/422 - 2s - 4ms/step - accuracy: 0.9965 - loss: 0.0104 - val_accuracy: 0.9935 - val_loss: 0.0297\n",
            "Epoch 6/10\n",
            "422/422 - 2s - 4ms/step - accuracy: 0.9965 - loss: 0.0098 - val_accuracy: 0.9923 - val_loss: 0.0321\n",
            "Epoch 7/10\n",
            "422/422 - 2s - 4ms/step - accuracy: 0.9967 - loss: 0.0090 - val_accuracy: 0.9937 - val_loss: 0.0305\n",
            "Epoch 8/10\n",
            "422/422 - 2s - 4ms/step - accuracy: 0.9967 - loss: 0.0089 - val_accuracy: 0.9935 - val_loss: 0.0331\n",
            "Epoch 9/10\n",
            "422/422 - 2s - 5ms/step - accuracy: 0.9972 - loss: 0.0081 - val_accuracy: 0.9928 - val_loss: 0.0341\n",
            "Epoch 10/10\n",
            "422/422 - 2s - 5ms/step - accuracy: 0.9975 - loss: 0.0069 - val_accuracy: 0.9942 - val_loss: 0.0310\n"
          ]
        }
      ]
    },
    {
      "cell_type": "code",
      "source": [
        "#평가\n",
        "test_loss, test_acc = model.evaluate(x_test, y_test, verbose=2)\n",
        "print(f\"\\n✅ Test Accuracy: {test_acc:.4f}\")"
      ],
      "metadata": {
        "colab": {
          "base_uri": "https://localhost:8080/"
        },
        "id": "iUPKOVMkaSRa",
        "outputId": "96688ded-ad28-452d-f66f-fa8b79356e37"
      },
      "execution_count": 49,
      "outputs": [
        {
          "output_type": "stream",
          "name": "stdout",
          "text": [
            "313/313 - 2s - 5ms/step - accuracy: 0.9946 - loss: 0.0231\n",
            "\n",
            "✅ Test Accuracy: 0.9946\n"
          ]
        }
      ]
    },
    {
      "cell_type": "code",
      "source": [
        "# 예측 예시\n",
        "predictions = model.predict(x_test[:5])\n",
        "print(\"예측 결과:\", np.argmax(predictions, axis=1))\n",
        "print(\"실제 레이블:\", y_test[:5])"
      ],
      "metadata": {
        "colab": {
          "base_uri": "https://localhost:8080/"
        },
        "id": "0vfAEJAKaflq",
        "outputId": "3a7d8a14-1049-412b-e6f7-59081cb82ed9"
      },
      "execution_count": 50,
      "outputs": [
        {
          "output_type": "stream",
          "name": "stdout",
          "text": [
            "\u001b[1m1/1\u001b[0m \u001b[32m━━━━━━━━━━━━━━━━━━━━\u001b[0m\u001b[37m\u001b[0m \u001b[1m0s\u001b[0m 294ms/step\n",
            "예측 결과: [7 2 1 0 4]\n",
            "실제 레이블: [7 2 1 0 4]\n"
          ]
        }
      ]
    }
  ]
}