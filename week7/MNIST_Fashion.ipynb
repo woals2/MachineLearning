{
  "nbformat": 4,
  "nbformat_minor": 0,
  "metadata": {
    "colab": {
      "provenance": [],
      "gpuType": "T4"
    },
    "kernelspec": {
      "name": "python3",
      "display_name": "Python 3"
    },
    "language_info": {
      "name": "python"
    },
    "accelerator": "GPU"
  },
  "cells": [
    {
      "cell_type": "markdown",
      "source": [
        "# **DNN**"
      ],
      "metadata": {
        "id": "sphzyK-kYy4p"
      }
    },
    {
      "cell_type": "code",
      "execution_count": 8,
      "metadata": {
        "id": "CyY9WARrUSa5"
      },
      "outputs": [],
      "source": [
        "import tensorflow as tf\n",
        "from tensorflow.keras import layers, models\n",
        "\n",
        "# 데이터 로드\n",
        "fashion_mnist = tf.keras.datasets.fashion_mnist\n",
        "(x_train, y_train), (x_test, y_test) = fashion_mnist.load_data()\n"
      ]
    },
    {
      "cell_type": "code",
      "source": [
        "# 정규화 (0~1)\n",
        "x_train = x_train / 255.0\n",
        "x_test = x_test / 255.0\n"
      ],
      "metadata": {
        "id": "oY-E4AiJYmBt"
      },
      "execution_count": 9,
      "outputs": []
    },
    {
      "cell_type": "code",
      "source": [
        "# DNN 모델 구성\n",
        "model_dnn = models.Sequential([\n",
        "    layers.Flatten(input_shape=(28, 28)),\n",
        "    layers.Dense(512, activation='relu'),\n",
        "    layers.Dropout(0.3),\n",
        "    layers.Dense(256, activation='relu'),\n",
        "    layers.Dropout(0.3),\n",
        "    layers.Dense(128, activation='relu'),\n",
        "    layers.Dropout(0.3),\n",
        "    layers.Dense(64, activation='relu'),\n",
        "    layers.Dense(10, activation='softmax')\n",
        "])\n",
        "\n"
      ],
      "metadata": {
        "id": "hvi2GxqHYl-a"
      },
      "execution_count": 10,
      "outputs": []
    },
    {
      "cell_type": "code",
      "source": [
        "# 컴파일\n",
        "model_dnn.compile(optimizer='adam',\n",
        "                  loss='sparse_categorical_crossentropy',\n",
        "                  metrics=['accuracy'])\n"
      ],
      "metadata": {
        "id": "u8dLBgnMYl7k"
      },
      "execution_count": 11,
      "outputs": []
    },
    {
      "cell_type": "code",
      "source": [
        "# 학습\n",
        "history_dnn = model_dnn.fit(x_train, y_train, epochs=10,\n",
        "                            validation_split=0.1, batch_size=128, verbose=2)\n"
      ],
      "metadata": {
        "colab": {
          "base_uri": "https://localhost:8080/"
        },
        "id": "bhNgDqcEYl4a",
        "outputId": "a6624e2b-ed25-4706-d72a-d814824a2ce0"
      },
      "execution_count": 12,
      "outputs": [
        {
          "output_type": "stream",
          "name": "stdout",
          "text": [
            "Epoch 1/10\n",
            "422/422 - 8s - 19ms/step - accuracy: 0.7565 - loss: 0.6676 - val_accuracy: 0.8352 - val_loss: 0.4442\n",
            "Epoch 2/10\n",
            "422/422 - 1s - 3ms/step - accuracy: 0.8383 - loss: 0.4511 - val_accuracy: 0.8543 - val_loss: 0.3918\n",
            "Epoch 3/10\n",
            "422/422 - 1s - 3ms/step - accuracy: 0.8516 - loss: 0.4143 - val_accuracy: 0.8625 - val_loss: 0.3725\n",
            "Epoch 4/10\n",
            "422/422 - 1s - 3ms/step - accuracy: 0.8622 - loss: 0.3828 - val_accuracy: 0.8680 - val_loss: 0.3551\n",
            "Epoch 5/10\n",
            "422/422 - 1s - 3ms/step - accuracy: 0.8684 - loss: 0.3646 - val_accuracy: 0.8758 - val_loss: 0.3370\n",
            "Epoch 6/10\n",
            "422/422 - 1s - 3ms/step - accuracy: 0.8724 - loss: 0.3530 - val_accuracy: 0.8812 - val_loss: 0.3407\n",
            "Epoch 7/10\n",
            "422/422 - 2s - 4ms/step - accuracy: 0.8746 - loss: 0.3414 - val_accuracy: 0.8797 - val_loss: 0.3229\n",
            "Epoch 8/10\n",
            "422/422 - 1s - 3ms/step - accuracy: 0.8790 - loss: 0.3292 - val_accuracy: 0.8835 - val_loss: 0.3283\n",
            "Epoch 9/10\n",
            "422/422 - 1s - 3ms/step - accuracy: 0.8815 - loss: 0.3227 - val_accuracy: 0.8787 - val_loss: 0.3262\n",
            "Epoch 10/10\n",
            "422/422 - 1s - 3ms/step - accuracy: 0.8844 - loss: 0.3135 - val_accuracy: 0.8790 - val_loss: 0.3322\n"
          ]
        }
      ]
    },
    {
      "cell_type": "code",
      "source": [
        "# 평가\n",
        "test_loss, test_acc = model_dnn.evaluate(x_test, y_test, verbose=2)\n",
        "print(f\"DNN Test Accuracy: {test_acc:.4f}\")"
      ],
      "metadata": {
        "colab": {
          "base_uri": "https://localhost:8080/"
        },
        "id": "9A5Hvn9eYl1J",
        "outputId": "3ac28436-1019-4e1e-ae72-3992901a36c8"
      },
      "execution_count": 13,
      "outputs": [
        {
          "output_type": "stream",
          "name": "stdout",
          "text": [
            "313/313 - 2s - 5ms/step - accuracy: 0.8701 - loss: 0.3519\n",
            "DNN Test Accuracy: 0.8701\n"
          ]
        }
      ]
    },
    {
      "cell_type": "markdown",
      "source": [
        "# **CNN**"
      ],
      "metadata": {
        "id": "kouJnuB2Y5II"
      }
    },
    {
      "cell_type": "code",
      "source": [
        "import tensorflow as tf\n",
        "import numpy as np\n",
        "from tensorflow.keras import layers, models\n",
        "\n",
        "# 데이터 로드\n",
        "fashion_mnist = tf.keras.datasets.fashion_mnist\n",
        "(x_train, y_train), (x_test, y_test) = fashion_mnist.load_data()\n",
        "\n",
        "#전처리 : 정규화 + 차원 추가\n",
        "x_train = x_train / 255.0\n",
        "x_test = x_test / 255.0\n",
        "x_train = x_train[..., tf.newaxis]  # (28,28,1)\n",
        "x_test = x_test[..., tf.newaxis]\n",
        "\n",
        "print(\"x_train shape:\", x_train.shape)  # (60000, 28, 28, 1)\n",
        "print(\"x_test shape:\", x_test.shape)    # (10000, 28, 28, 1)"
      ],
      "metadata": {
        "colab": {
          "base_uri": "https://localhost:8080/"
        },
        "id": "N9YF8PtiYlyB",
        "outputId": "1e23baa5-7b9f-4601-d0b3-2df15b9d19c7"
      },
      "execution_count": 15,
      "outputs": [
        {
          "output_type": "stream",
          "name": "stdout",
          "text": [
            "x_train shape: (60000, 28, 28, 1)\n",
            "x_test shape: (10000, 28, 28, 1)\n"
          ]
        }
      ]
    },
    {
      "cell_type": "code",
      "source": [
        "# CNN 모델 구성\n",
        "model_cnn = models.Sequential([\n",
        "    layers.Conv2D(32, (3,3), activation='relu', input_shape=(28,28,1)),\n",
        "    layers.Conv2D(64, (3,3), activation='relu'),\n",
        "    layers.MaxPooling2D((2,2)),\n",
        "    layers.Dropout(0.25),\n",
        "\n",
        "    layers.Conv2D(128, (3,3), activation='relu'),\n",
        "    layers.MaxPooling2D((2,2)),\n",
        "    layers.Dropout(0.25),\n",
        "\n",
        "    layers.Flatten(),\n",
        "    layers.Dense(256, activation='relu'),\n",
        "    layers.Dropout(0.5),\n",
        "    layers.Dense(10, activation='softmax')\n",
        "])\n"
      ],
      "metadata": {
        "id": "fuFI2YIxYluu"
      },
      "execution_count": 17,
      "outputs": []
    },
    {
      "cell_type": "code",
      "source": [
        "# 컴파일\n",
        "model.compile(optimizer='adam',\n",
        "              loss='sparse_categorical_crossentropy',\n",
        "              metrics=['accuracy'])\n",
        "\n",
        "# 학습\n",
        "history = model.fit(\n",
        "    x_train, y_train,\n",
        "    epochs=10,\n",
        "    batch_size=128,\n",
        "    validation_split=0.1,\n",
        "    verbose=2\n",
        ")"
      ],
      "metadata": {
        "colab": {
          "base_uri": "https://localhost:8080/"
        },
        "id": "ADzam2TvYlq9",
        "outputId": "43f0ce31-acac-4d6a-f39f-a04fde4a98f7"
      },
      "execution_count": 18,
      "outputs": [
        {
          "output_type": "stream",
          "name": "stdout",
          "text": [
            "Epoch 1/10\n",
            "422/422 - 8s - 19ms/step - accuracy: 0.9551 - loss: 0.1187 - val_accuracy: 0.9193 - val_loss: 0.2300\n",
            "Epoch 2/10\n",
            "422/422 - 2s - 5ms/step - accuracy: 0.9565 - loss: 0.1131 - val_accuracy: 0.9260 - val_loss: 0.2356\n",
            "Epoch 3/10\n",
            "422/422 - 2s - 4ms/step - accuracy: 0.9604 - loss: 0.1066 - val_accuracy: 0.9258 - val_loss: 0.2353\n",
            "Epoch 4/10\n",
            "422/422 - 2s - 4ms/step - accuracy: 0.9608 - loss: 0.1046 - val_accuracy: 0.9222 - val_loss: 0.2400\n",
            "Epoch 5/10\n",
            "422/422 - 2s - 4ms/step - accuracy: 0.9622 - loss: 0.0994 - val_accuracy: 0.9202 - val_loss: 0.2697\n",
            "Epoch 6/10\n",
            "422/422 - 2s - 6ms/step - accuracy: 0.9640 - loss: 0.0966 - val_accuracy: 0.9223 - val_loss: 0.2533\n",
            "Epoch 7/10\n",
            "422/422 - 2s - 4ms/step - accuracy: 0.9635 - loss: 0.0938 - val_accuracy: 0.9235 - val_loss: 0.2555\n",
            "Epoch 8/10\n",
            "422/422 - 2s - 4ms/step - accuracy: 0.9658 - loss: 0.0913 - val_accuracy: 0.9202 - val_loss: 0.2859\n",
            "Epoch 9/10\n",
            "422/422 - 2s - 4ms/step - accuracy: 0.9665 - loss: 0.0875 - val_accuracy: 0.9265 - val_loss: 0.2715\n",
            "Epoch 10/10\n",
            "422/422 - 2s - 4ms/step - accuracy: 0.9684 - loss: 0.0831 - val_accuracy: 0.9193 - val_loss: 0.2722\n"
          ]
        }
      ]
    },
    {
      "cell_type": "code",
      "source": [
        "# 평가\n",
        "test_loss, test_acc = model.evaluate(x_test, y_test, verbose=2)\n",
        "print(f\"\\n✅ Test Accuracy: {test_acc:.4f}\")\n",
        "\n",
        "# 예측 예시\n",
        "predictions = model.predict(x_test[:5])\n",
        "print(\"예측 결과:\", np.argmax(predictions, axis=1))\n",
        "print(\"실제 레이블:\", y_test[:5])"
      ],
      "metadata": {
        "colab": {
          "base_uri": "https://localhost:8080/"
        },
        "id": "JzFq1BTOYlm1",
        "outputId": "f48147e7-549c-4fc8-896c-f2c9b55e5a27"
      },
      "execution_count": 19,
      "outputs": [
        {
          "output_type": "stream",
          "name": "stdout",
          "text": [
            "313/313 - 2s - 7ms/step - accuracy: 0.9193 - loss: 0.2850\n",
            "\n",
            "✅ Test Accuracy: 0.9193\n",
            "\u001b[1m1/1\u001b[0m \u001b[32m━━━━━━━━━━━━━━━━━━━━\u001b[0m\u001b[37m\u001b[0m \u001b[1m0s\u001b[0m 334ms/step\n",
            "예측 결과: [9 2 1 1 6]\n",
            "실제 레이블: [9 2 1 1 6]\n"
          ]
        }
      ]
    }
  ]
}